{
 "cells": [
  {
   "cell_type": "code",
   "execution_count": 2,
   "id": "e302a0d5-4965-45b3-9102-5108c5f441cb",
   "metadata": {},
   "outputs": [],
   "source": [
    "import numpy as np\n",
    "import pandas as pd"
   ]
  },
  {
   "cell_type": "code",
   "execution_count": 4,
   "id": "88175fdd-c472-40e6-99f7-83434e7194b4",
   "metadata": {},
   "outputs": [
    {
     "name": "stdout",
     "output_type": "stream",
     "text": [
      "   name   subject  marks  total_marks  class      city\n",
      "0  ayaan     math   87.0          100     10     delhi\n",
      "1  mehak  science   72.0          100     10    mumbai\n",
      "2  rohan  english    NaN          100      9     delhi\n",
      "3  sanya     math   91.0          100     10      pune\n",
      "4  aarav  science   78.0          100      9    mumbai\n",
      "5  kabir  english   69.0          100      9     delhi\n",
      "6   alia     math   95.0          100     10  banglore\n",
      "7  naina  science   85.0          100      9     delhi\n"
     ]
    }
   ],
   "source": [
    "df = pd.read_csv('students.csv')\n",
    "print(df)"
   ]
  },
  {
   "cell_type": "code",
   "execution_count": 8,
   "id": "bc9389ad-0caa-4246-8379-e96a17cd84f3",
   "metadata": {},
   "outputs": [
    {
     "data": {
      "text/plain": [
       "0    87.000000\n",
       "1    72.000000\n",
       "2    82.428571\n",
       "3    91.000000\n",
       "4    78.000000\n",
       "5    69.000000\n",
       "6    95.000000\n",
       "7    85.000000\n",
       "Name: marks, dtype: float64"
      ]
     },
     "execution_count": 8,
     "metadata": {},
     "output_type": "execute_result"
    }
   ],
   "source": [
    "df['marks'].fillna(df['marks'].mean())"
   ]
  },
  {
   "cell_type": "code",
   "execution_count": 18,
   "id": "a10069c3-5c27-4c2b-a207-318dd078594e",
   "metadata": {},
   "outputs": [
    {
     "name": "stdout",
     "output_type": "stream",
     "text": [
      "   name   subject      marks  total_marks  class      city  percentage\n",
      "0  ayaan     math  87.000000          100     10     delhi   87.000000\n",
      "1  mehak  science  72.000000          100     10    mumbai   72.000000\n",
      "2  rohan  english  82.428571          100      9     delhi   82.428571\n",
      "3  sanya     math  91.000000          100     10      pune   91.000000\n",
      "4  aarav  science  78.000000          100      9    mumbai   78.000000\n",
      "5  kabir  english  69.000000          100      9     delhi   69.000000\n",
      "6   alia     math  95.000000          100     10  banglore   95.000000\n",
      "7  naina  science  85.000000          100      9     delhi   85.000000\n"
     ]
    }
   ],
   "source": [
    "print(df)"
   ]
  },
  {
   "cell_type": "code",
   "execution_count": 22,
   "id": "77a955e6-680d-4fd5-8c61-2449595a02c5",
   "metadata": {},
   "outputs": [
    {
     "name": "stdout",
     "output_type": "stream",
     "text": [
      "   name   subject      marks  total_marks  class      city  percentage\n",
      "0  ayaan     math  87.000000          100     10     delhi   87.000000\n",
      "1  mehak  science  72.000000          100     10    mumbai   72.000000\n",
      "2  rohan  english  82.428571          100      9     delhi   82.428571\n",
      "3  sanya     math  91.000000          100     10      pune   91.000000\n",
      "4  aarav  science  78.000000          100      9    mumbai   78.000000\n",
      "5  kabir  english  69.000000          100      9     delhi   69.000000\n",
      "6   alia     math  95.000000          100     10  banglore   95.000000\n",
      "7  naina  science  85.000000          100      9     delhi   85.000000\n"
     ]
    }
   ],
   "source": [
    "df['percentage'] = (df['marks'] / df['total_marks']) * 100\n",
    "print(df)"
   ]
  },
  {
   "cell_type": "code",
   "execution_count": 24,
   "id": "e85ca411-14fe-4a49-98b0-39e80b9ab476",
   "metadata": {},
   "outputs": [
    {
     "name": "stdout",
     "output_type": "stream",
     "text": [
      "city\n",
      "banglore    95.000000\n",
      "delhi       80.857143\n",
      "mumbai      75.000000\n",
      "pune        91.000000\n",
      "Name: percentage, dtype: float64\n"
     ]
    }
   ],
   "source": [
    "city_avg_percentage = df.groupby('city')['percentage'].mean()\n",
    "print(city_avg_percentage)"
   ]
  },
  {
   "cell_type": "code",
   "execution_count": 26,
   "id": "9685388c-e1f3-44ae-a7bf-9a23aca0d4d2",
   "metadata": {},
   "outputs": [
    {
     "name": "stdout",
     "output_type": "stream",
     "text": [
      "   name   subject      marks  total_marks  class      city  percentage\n",
      "6   alia     math  95.000000          100     10  banglore   95.000000\n",
      "3  sanya     math  91.000000          100     10      pune   91.000000\n",
      "0  ayaan     math  87.000000          100     10     delhi   87.000000\n",
      "7  naina  science  85.000000          100      9     delhi   85.000000\n",
      "2  rohan  english  82.428571          100      9     delhi   82.428571\n"
     ]
    }
   ],
   "source": [
    "top_students = df.sort_values('percentage', ascending=False).head(5)\n",
    "print(top_students)"
   ]
  },
  {
   "cell_type": "code",
   "execution_count": 30,
   "id": "74f488d7-7f90-4e0f-ade1-d242946c921b",
   "metadata": {},
   "outputs": [
    {
     "name": "stdout",
     "output_type": "stream",
     "text": [
      "   name   subject      marks  total_marks  class      city  percentage\n",
      "0  ayaan     math  87.000000          100     10     delhi   87.000000\n",
      "1  mehak  science  72.000000          100     10    mumbai   72.000000\n",
      "2  rohan  english  82.428571          100      9     delhi   82.428571\n",
      "3  sanya     math  91.000000          100     10      pune   91.000000\n",
      "4  aarav  science  78.000000          100      9    mumbai   78.000000\n",
      "5  kabir  english  69.000000          100      9     delhi   69.000000\n",
      "6   alia     math  95.000000          100     10  banglore   95.000000\n",
      "7  naina  science  85.000000          100      9     delhi   85.000000\n"
     ]
    }
   ],
   "source": [
    "df.to_csv('cleaned_data.csv', index=False)\n",
    "print(df)"
   ]
  },
  {
   "cell_type": "code",
   "execution_count": 32,
   "id": "c4a5f384-3cdb-4b4b-84d4-19370bf9f9df",
   "metadata": {},
   "outputs": [
    {
     "name": "stdout",
     "output_type": "stream",
     "text": [
      "\n",
      "Subject-wise Average Marks:\n",
      "subject\n",
      "english    75.714286\n",
      "math       91.000000\n",
      "science    78.333333\n",
      "Name: marks, dtype: float64\n"
     ]
    }
   ],
   "source": [
    "subject_avg_marks = df.groupby('subject')['marks'].mean()\n",
    "print(\"\\nSubject-wise Average Marks:\")\n",
    "print(subject_avg_marks)"
   ]
  },
  {
   "cell_type": "code",
   "execution_count": 34,
   "id": "b4661938-4667-45e6-a0d2-56664d93401d",
   "metadata": {},
   "outputs": [],
   "source": [
    "import matplotlib.pyplot as plt\n"
   ]
  },
  {
   "cell_type": "code",
   "execution_count": 36,
   "id": "ba1f6d75-1248-44f7-a1ca-9e2561cccf2a",
   "metadata": {},
   "outputs": [
    {
     "data": {
      "image/png": "[encoded data removed]",
      "text/plain": [
       "<Figure size 640x480 with 1 Axes>"
      ]
     },
     "metadata": {},
     "output_type": "display_data"
    }
   ],
   "source": [
    "city_avg_percentage.plot(kind='bar')\n",
    "plt.title('City-wise Average Percentage')\n",
    "plt.xlabel('City')\n",
    "plt.ylabel('Average Percentage')\n",
    "plt.show()"
   ]
  },
  {
   "cell_type": "code",
   "execution_count": null,
   "id": "ce986c7e-7e55-4f99-9caf-f102918107e0",
   "metadata": {},
   "outputs": [],
   "source": []
  }
 ],
 "metadata": {
  "kernelspec": {
   "display_name": "Python 3 (ipykernel)",
   "language": "python",
   "name": "python3"
  },
  "language_info": {
   "codemirror_mode": {
    "name": "ipython",
    "version": 3
   },
   "file_extension": ".py",
   "mimetype": "text/x-python",
   "name": "python",
   "nbconvert_exporter": "python",
   "pygments_lexer": "ipython3",
   "version": "3.12.7"
  }
 },
 "nbformat": 4,
 "nbformat_minor": 5
}
